{
 "cells": [
  {
   "cell_type": "markdown",
   "source": [
    "# CE880 Case Study\n",
    "## Predicting if Delivery Will Reach on Time or Not\n",
    "\n",
    "### Using classification to predict if the given item will be delivered on time depending on given features like warehouse, price, weight, ordered by, etc"
   ],
   "metadata": {
    "collapsed": false
   }
  },
  {
   "cell_type": "markdown",
   "source": [
    "To begin with, we import all modules needed in our code.\n",
    "The modules include dataframe and array computation, plotting and machine learning model computation libraries."
   ],
   "metadata": {
    "collapsed": false
   }
  },
  {
   "cell_type": "code",
   "execution_count": 1,
   "outputs": [],
   "source": [
    "import pandas as pd\n",
    "import numpy as np\n",
    "%matplotlib inline\n",
    "import matplotlib.pyplot as plt\n",
    "from sklearn.model_selection import GridSearchCV\n",
    "import seaborn as sns\n",
    "from sklearn.preprocessing import LabelEncoder, StandardScaler\n",
    "from sklearn.model_selection import train_test_split, StratifiedKFold\n",
    "from sklearn.neighbors import KNeighborsClassifier\n",
    "from sklearn.linear_model import LinearRegression, LogisticRegression, SGDClassifier\n",
    "from sklearn.svm import SVC\n",
    "from sklearn.tree import DecisionTreeClassifier\n",
    "from sklearn.ensemble import RandomForestClassifier\n",
    "from sklearn.metrics import accuracy_score, recall_score, precision_score, f1_score, classification_report, log_loss\n",
    "from sklearn.naive_bayes import CategoricalNB"
   ],
   "metadata": {
    "collapsed": false
   }
  },
  {
   "cell_type": "markdown",
   "source": [
    "We then import our dataset and get some brief ideas about it."
   ],
   "metadata": {
    "collapsed": false
   }
  },
  {
   "cell_type": "code",
   "execution_count": 2,
   "outputs": [
    {
     "data": {
      "text/plain": "       Customer_care_calls  Customer_rating  Cost_of_the_Product  \\\ncount         10999.000000     10999.000000         10999.000000   \nmean              4.054459         2.990545           210.196836   \nstd               1.141490         1.413603            48.063272   \nmin               2.000000         1.000000            96.000000   \n25%               3.000000         2.000000           169.000000   \n50%               4.000000         3.000000           214.000000   \n75%               5.000000         4.000000           251.000000   \nmax               7.000000         5.000000           310.000000   \n\n       Prior_purchases  Discount_offered  Weight_in_gms         ROT_Y  \ncount     10999.000000      10999.000000   10999.000000  10999.000000  \nmean          3.567597         13.373216    3634.016729      0.596691  \nstd           1.522860         16.205527    1635.377251      0.490584  \nmin           2.000000          1.000000    1001.000000      0.000000  \n25%           3.000000          4.000000    1839.500000      0.000000  \n50%           3.000000          7.000000    4149.000000      1.000000  \n75%           4.000000         10.000000    5050.000000      1.000000  \nmax          10.000000         65.000000    7846.000000      1.000000  ",
      "text/html": "<div>\n<style scoped>\n    .dataframe tbody tr th:only-of-type {\n        vertical-align: middle;\n    }\n\n    .dataframe tbody tr th {\n        vertical-align: top;\n    }\n\n    .dataframe thead th {\n        text-align: right;\n    }\n</style>\n<table border=\"1\" class=\"dataframe\">\n  <thead>\n    <tr style=\"text-align: right;\">\n      <th></th>\n      <th>Customer_care_calls</th>\n      <th>Customer_rating</th>\n      <th>Cost_of_the_Product</th>\n      <th>Prior_purchases</th>\n      <th>Discount_offered</th>\n      <th>Weight_in_gms</th>\n      <th>ROT_Y</th>\n    </tr>\n  </thead>\n  <tbody>\n    <tr>\n      <th>count</th>\n      <td>10999.000000</td>\n      <td>10999.000000</td>\n      <td>10999.000000</td>\n      <td>10999.000000</td>\n      <td>10999.000000</td>\n      <td>10999.000000</td>\n      <td>10999.000000</td>\n    </tr>\n    <tr>\n      <th>mean</th>\n      <td>4.054459</td>\n      <td>2.990545</td>\n      <td>210.196836</td>\n      <td>3.567597</td>\n      <td>13.373216</td>\n      <td>3634.016729</td>\n      <td>0.596691</td>\n    </tr>\n    <tr>\n      <th>std</th>\n      <td>1.141490</td>\n      <td>1.413603</td>\n      <td>48.063272</td>\n      <td>1.522860</td>\n      <td>16.205527</td>\n      <td>1635.377251</td>\n      <td>0.490584</td>\n    </tr>\n    <tr>\n      <th>min</th>\n      <td>2.000000</td>\n      <td>1.000000</td>\n      <td>96.000000</td>\n      <td>2.000000</td>\n      <td>1.000000</td>\n      <td>1001.000000</td>\n      <td>0.000000</td>\n    </tr>\n    <tr>\n      <th>25%</th>\n      <td>3.000000</td>\n      <td>2.000000</td>\n      <td>169.000000</td>\n      <td>3.000000</td>\n      <td>4.000000</td>\n      <td>1839.500000</td>\n      <td>0.000000</td>\n    </tr>\n    <tr>\n      <th>50%</th>\n      <td>4.000000</td>\n      <td>3.000000</td>\n      <td>214.000000</td>\n      <td>3.000000</td>\n      <td>7.000000</td>\n      <td>4149.000000</td>\n      <td>1.000000</td>\n    </tr>\n    <tr>\n      <th>75%</th>\n      <td>5.000000</td>\n      <td>4.000000</td>\n      <td>251.000000</td>\n      <td>4.000000</td>\n      <td>10.000000</td>\n      <td>5050.000000</td>\n      <td>1.000000</td>\n    </tr>\n    <tr>\n      <th>max</th>\n      <td>7.000000</td>\n      <td>5.000000</td>\n      <td>310.000000</td>\n      <td>10.000000</td>\n      <td>65.000000</td>\n      <td>7846.000000</td>\n      <td>1.000000</td>\n    </tr>\n  </tbody>\n</table>\n</div>"
     },
     "execution_count": 2,
     "metadata": {},
     "output_type": "execute_result"
    }
   ],
   "source": [
    "df = pd.read_excel('Data_shipping.xlsx', index_col='ID')\n",
    "df.describe()"
   ],
   "metadata": {
    "collapsed": false
   }
  },
  {
   "cell_type": "code",
   "execution_count": 3,
   "outputs": [
    {
     "data": {
      "text/plain": "      Warehouse_block Mode_of_Shipment  Customer_care_calls  Customer_rating  \\\nID                                                                             \n1                   D           Flight                    4                2   \n2                   F           Flight                    4                5   \n3                   A           Flight                    2                2   \n4                   B           Flight                    3                3   \n5                   C           Flight                    2                2   \n...               ...              ...                  ...              ...   \n10995               A             Ship                    4                1   \n10996               B             Ship                    4                1   \n10997               C             Ship                    5                4   \n10998               F             Ship                    5                2   \n10999               D             Ship                    2                5   \n\n       Cost_of_the_Product  Prior_purchases Product_importance Gender  \\\nID                                                                      \n1                      177                3                low      F   \n2                      216                2                low      M   \n3                      183                4                low      M   \n4                      176                4             medium      M   \n5                      184                3             medium      F   \n...                    ...              ...                ...    ...   \n10995                  252                5             medium      F   \n10996                  232                5             medium      F   \n10997                  242                5                low      F   \n10998                  223                6             medium      M   \n10999                  155                5                low      F   \n\n       Discount_offered  Weight_in_gms  ROT_Y  \nID                                             \n1                    44           1233      1  \n2                    59           3088      1  \n3                    48           3374      1  \n4                    10           1177      1  \n5                    46           2484      1  \n...                 ...            ...    ...  \n10995                 1           1538      1  \n10996                 6           1247      0  \n10997                 4           1155      0  \n10998                 2           1210      0  \n10999                 6           1639      0  \n\n[10999 rows x 11 columns]",
      "text/html": "<div>\n<style scoped>\n    .dataframe tbody tr th:only-of-type {\n        vertical-align: middle;\n    }\n\n    .dataframe tbody tr th {\n        vertical-align: top;\n    }\n\n    .dataframe thead th {\n        text-align: right;\n    }\n</style>\n<table border=\"1\" class=\"dataframe\">\n  <thead>\n    <tr style=\"text-align: right;\">\n      <th></th>\n      <th>Warehouse_block</th>\n      <th>Mode_of_Shipment</th>\n      <th>Customer_care_calls</th>\n      <th>Customer_rating</th>\n      <th>Cost_of_the_Product</th>\n      <th>Prior_purchases</th>\n      <th>Product_importance</th>\n      <th>Gender</th>\n      <th>Discount_offered</th>\n      <th>Weight_in_gms</th>\n      <th>ROT_Y</th>\n    </tr>\n    <tr>\n      <th>ID</th>\n      <th></th>\n      <th></th>\n      <th></th>\n      <th></th>\n      <th></th>\n      <th></th>\n      <th></th>\n      <th></th>\n      <th></th>\n      <th></th>\n      <th></th>\n    </tr>\n  </thead>\n  <tbody>\n    <tr>\n      <th>1</th>\n      <td>D</td>\n      <td>Flight</td>\n      <td>4</td>\n      <td>2</td>\n      <td>177</td>\n      <td>3</td>\n      <td>low</td>\n      <td>F</td>\n      <td>44</td>\n      <td>1233</td>\n      <td>1</td>\n    </tr>\n    <tr>\n      <th>2</th>\n      <td>F</td>\n      <td>Flight</td>\n      <td>4</td>\n      <td>5</td>\n      <td>216</td>\n      <td>2</td>\n      <td>low</td>\n      <td>M</td>\n      <td>59</td>\n      <td>3088</td>\n      <td>1</td>\n    </tr>\n    <tr>\n      <th>3</th>\n      <td>A</td>\n      <td>Flight</td>\n      <td>2</td>\n      <td>2</td>\n      <td>183</td>\n      <td>4</td>\n      <td>low</td>\n      <td>M</td>\n      <td>48</td>\n      <td>3374</td>\n      <td>1</td>\n    </tr>\n    <tr>\n      <th>4</th>\n      <td>B</td>\n      <td>Flight</td>\n      <td>3</td>\n      <td>3</td>\n      <td>176</td>\n      <td>4</td>\n      <td>medium</td>\n      <td>M</td>\n      <td>10</td>\n      <td>1177</td>\n      <td>1</td>\n    </tr>\n    <tr>\n      <th>5</th>\n      <td>C</td>\n      <td>Flight</td>\n      <td>2</td>\n      <td>2</td>\n      <td>184</td>\n      <td>3</td>\n      <td>medium</td>\n      <td>F</td>\n      <td>46</td>\n      <td>2484</td>\n      <td>1</td>\n    </tr>\n    <tr>\n      <th>...</th>\n      <td>...</td>\n      <td>...</td>\n      <td>...</td>\n      <td>...</td>\n      <td>...</td>\n      <td>...</td>\n      <td>...</td>\n      <td>...</td>\n      <td>...</td>\n      <td>...</td>\n      <td>...</td>\n    </tr>\n    <tr>\n      <th>10995</th>\n      <td>A</td>\n      <td>Ship</td>\n      <td>4</td>\n      <td>1</td>\n      <td>252</td>\n      <td>5</td>\n      <td>medium</td>\n      <td>F</td>\n      <td>1</td>\n      <td>1538</td>\n      <td>1</td>\n    </tr>\n    <tr>\n      <th>10996</th>\n      <td>B</td>\n      <td>Ship</td>\n      <td>4</td>\n      <td>1</td>\n      <td>232</td>\n      <td>5</td>\n      <td>medium</td>\n      <td>F</td>\n      <td>6</td>\n      <td>1247</td>\n      <td>0</td>\n    </tr>\n    <tr>\n      <th>10997</th>\n      <td>C</td>\n      <td>Ship</td>\n      <td>5</td>\n      <td>4</td>\n      <td>242</td>\n      <td>5</td>\n      <td>low</td>\n      <td>F</td>\n      <td>4</td>\n      <td>1155</td>\n      <td>0</td>\n    </tr>\n    <tr>\n      <th>10998</th>\n      <td>F</td>\n      <td>Ship</td>\n      <td>5</td>\n      <td>2</td>\n      <td>223</td>\n      <td>6</td>\n      <td>medium</td>\n      <td>M</td>\n      <td>2</td>\n      <td>1210</td>\n      <td>0</td>\n    </tr>\n    <tr>\n      <th>10999</th>\n      <td>D</td>\n      <td>Ship</td>\n      <td>2</td>\n      <td>5</td>\n      <td>155</td>\n      <td>5</td>\n      <td>low</td>\n      <td>F</td>\n      <td>6</td>\n      <td>1639</td>\n      <td>0</td>\n    </tr>\n  </tbody>\n</table>\n<p>10999 rows × 11 columns</p>\n</div>"
     },
     "execution_count": 3,
     "metadata": {},
     "output_type": "execute_result"
    }
   ],
   "source": [
    "df"
   ],
   "metadata": {
    "collapsed": false
   }
  },
  {
   "cell_type": "markdown",
   "source": [
    "Some columns are in the form of continuous variables, which could better be represented in ranges, or hence categorical variables.\n",
    "Every unit of price will not be a required marker to predict if the product will be delivered on time, while an expensive product could be affiliated with on time delivery, therefore marking price ranges with on time delivery predictions. The same can be said about weight and discount.\n",
    "\n",
    "We also proceed to encode all categorical columns to preserve the database in numerical format."
   ],
   "metadata": {
    "collapsed": false
   }
  },
  {
   "cell_type": "code",
   "execution_count": 4,
   "outputs": [
    {
     "data": {
      "text/plain": "       Warehouse_block  Mode_of_Shipment  Customer_care_calls  \\\nID                                                              \n1                    3                 0                    4   \n2                    4                 0                    4   \n3                    0                 0                    2   \n4                    1                 0                    3   \n5                    2                 0                    2   \n...                ...               ...                  ...   \n10995                0                 2                    4   \n10996                1                 2                    4   \n10997                2                 2                    5   \n10998                4                 2                    5   \n10999                3                 2                    2   \n\n       Customer_rating  Cost_of_the_Product  Discount_cat  Price_cat  \\\nID                                                                     \n1                    2                  177             4          8   \n2                    5                  216             5         12   \n3                    2                  183             4          9   \n4                    3                  176             0          8   \n5                    2                  184             4          9   \n...                ...                  ...           ...        ...   \n10995                1                  252             0         16   \n10996                1                  232             0         14   \n10997                4                  242             0         15   \n10998                2                  223             0         13   \n10999                5                  155             0          6   \n\n       Prior_purchases  Product_importance  Gender  Discount_offered  \\\nID                                                                     \n1                    3                   1       0                44   \n2                    2                   1       1                59   \n3                    4                   1       1                48   \n4                    4                   2       1                10   \n5                    3                   2       0                46   \n...                ...                 ...     ...               ...   \n10995                5                   2       0                 1   \n10996                5                   2       0                 6   \n10997                5                   1       0                 4   \n10998                6                   2       1                 2   \n10999                5                   1       0                 6   \n\n       Weight_in_gms  Weight_cat  ROT_Y  \nID                                       \n1               1233           2      1  \n2               3088          20      1  \n3               3374          23      1  \n4               1177           1      1  \n5               2484          14      1  \n...              ...         ...    ...  \n10995           1538           5      1  \n10996           1247           2      0  \n10997           1155           1      0  \n10998           1210           2      0  \n10999           1639           6      0  \n\n[10999 rows x 14 columns]",
      "text/html": "<div>\n<style scoped>\n    .dataframe tbody tr th:only-of-type {\n        vertical-align: middle;\n    }\n\n    .dataframe tbody tr th {\n        vertical-align: top;\n    }\n\n    .dataframe thead th {\n        text-align: right;\n    }\n</style>\n<table border=\"1\" class=\"dataframe\">\n  <thead>\n    <tr style=\"text-align: right;\">\n      <th></th>\n      <th>Warehouse_block</th>\n      <th>Mode_of_Shipment</th>\n      <th>Customer_care_calls</th>\n      <th>Customer_rating</th>\n      <th>Cost_of_the_Product</th>\n      <th>Discount_cat</th>\n      <th>Price_cat</th>\n      <th>Prior_purchases</th>\n      <th>Product_importance</th>\n      <th>Gender</th>\n      <th>Discount_offered</th>\n      <th>Weight_in_gms</th>\n      <th>Weight_cat</th>\n      <th>ROT_Y</th>\n    </tr>\n    <tr>\n      <th>ID</th>\n      <th></th>\n      <th></th>\n      <th></th>\n      <th></th>\n      <th></th>\n      <th></th>\n      <th></th>\n      <th></th>\n      <th></th>\n      <th></th>\n      <th></th>\n      <th></th>\n      <th></th>\n      <th></th>\n    </tr>\n  </thead>\n  <tbody>\n    <tr>\n      <th>1</th>\n      <td>3</td>\n      <td>0</td>\n      <td>4</td>\n      <td>2</td>\n      <td>177</td>\n      <td>4</td>\n      <td>8</td>\n      <td>3</td>\n      <td>1</td>\n      <td>0</td>\n      <td>44</td>\n      <td>1233</td>\n      <td>2</td>\n      <td>1</td>\n    </tr>\n    <tr>\n      <th>2</th>\n      <td>4</td>\n      <td>0</td>\n      <td>4</td>\n      <td>5</td>\n      <td>216</td>\n      <td>5</td>\n      <td>12</td>\n      <td>2</td>\n      <td>1</td>\n      <td>1</td>\n      <td>59</td>\n      <td>3088</td>\n      <td>20</td>\n      <td>1</td>\n    </tr>\n    <tr>\n      <th>3</th>\n      <td>0</td>\n      <td>0</td>\n      <td>2</td>\n      <td>2</td>\n      <td>183</td>\n      <td>4</td>\n      <td>9</td>\n      <td>4</td>\n      <td>1</td>\n      <td>1</td>\n      <td>48</td>\n      <td>3374</td>\n      <td>23</td>\n      <td>1</td>\n    </tr>\n    <tr>\n      <th>4</th>\n      <td>1</td>\n      <td>0</td>\n      <td>3</td>\n      <td>3</td>\n      <td>176</td>\n      <td>0</td>\n      <td>8</td>\n      <td>4</td>\n      <td>2</td>\n      <td>1</td>\n      <td>10</td>\n      <td>1177</td>\n      <td>1</td>\n      <td>1</td>\n    </tr>\n    <tr>\n      <th>5</th>\n      <td>2</td>\n      <td>0</td>\n      <td>2</td>\n      <td>2</td>\n      <td>184</td>\n      <td>4</td>\n      <td>9</td>\n      <td>3</td>\n      <td>2</td>\n      <td>0</td>\n      <td>46</td>\n      <td>2484</td>\n      <td>14</td>\n      <td>1</td>\n    </tr>\n    <tr>\n      <th>...</th>\n      <td>...</td>\n      <td>...</td>\n      <td>...</td>\n      <td>...</td>\n      <td>...</td>\n      <td>...</td>\n      <td>...</td>\n      <td>...</td>\n      <td>...</td>\n      <td>...</td>\n      <td>...</td>\n      <td>...</td>\n      <td>...</td>\n      <td>...</td>\n    </tr>\n    <tr>\n      <th>10995</th>\n      <td>0</td>\n      <td>2</td>\n      <td>4</td>\n      <td>1</td>\n      <td>252</td>\n      <td>0</td>\n      <td>16</td>\n      <td>5</td>\n      <td>2</td>\n      <td>0</td>\n      <td>1</td>\n      <td>1538</td>\n      <td>5</td>\n      <td>1</td>\n    </tr>\n    <tr>\n      <th>10996</th>\n      <td>1</td>\n      <td>2</td>\n      <td>4</td>\n      <td>1</td>\n      <td>232</td>\n      <td>0</td>\n      <td>14</td>\n      <td>5</td>\n      <td>2</td>\n      <td>0</td>\n      <td>6</td>\n      <td>1247</td>\n      <td>2</td>\n      <td>0</td>\n    </tr>\n    <tr>\n      <th>10997</th>\n      <td>2</td>\n      <td>2</td>\n      <td>5</td>\n      <td>4</td>\n      <td>242</td>\n      <td>0</td>\n      <td>15</td>\n      <td>5</td>\n      <td>1</td>\n      <td>0</td>\n      <td>4</td>\n      <td>1155</td>\n      <td>1</td>\n      <td>0</td>\n    </tr>\n    <tr>\n      <th>10998</th>\n      <td>4</td>\n      <td>2</td>\n      <td>5</td>\n      <td>2</td>\n      <td>223</td>\n      <td>0</td>\n      <td>13</td>\n      <td>6</td>\n      <td>2</td>\n      <td>1</td>\n      <td>2</td>\n      <td>1210</td>\n      <td>2</td>\n      <td>0</td>\n    </tr>\n    <tr>\n      <th>10999</th>\n      <td>3</td>\n      <td>2</td>\n      <td>2</td>\n      <td>5</td>\n      <td>155</td>\n      <td>0</td>\n      <td>6</td>\n      <td>5</td>\n      <td>1</td>\n      <td>0</td>\n      <td>6</td>\n      <td>1639</td>\n      <td>6</td>\n      <td>0</td>\n    </tr>\n  </tbody>\n</table>\n<p>10999 rows × 14 columns</p>\n</div>"
     },
     "execution_count": 4,
     "metadata": {},
     "output_type": "execute_result"
    }
   ],
   "source": [
    "df\n",
    "bins = [i * 100 + 1000 for i in range(35)]\n",
    "categories = [i + 1 for i in range(35)]\n",
    "cat = pd.cut(df.Weight_in_gms, bins, categories)\n",
    "df.insert(len(df.columns) - 1, 'Weight_cat', cat)\n",
    "\n",
    "bins = [i * 10 for i in range(31)]\n",
    "categories = [i + 1 for i in range(31)]\n",
    "cat = pd.cut(df.Cost_of_the_Product, bins, categories)\n",
    "df.insert(5, 'Price_cat', cat)\n",
    "\n",
    "bins = [i * 10 for i in range(100)]\n",
    "categories = [i + 1 for i in range(10)]\n",
    "cat = pd.cut(df.Discount_offered, bins, categories)\n",
    "df.insert(5, 'Discount_cat', cat)\n",
    "\n",
    "categorical_cols = ['Warehouse_block', 'Mode_of_Shipment', 'Product_importance', 'Gender', 'Price_cat', 'Weight_cat',\n",
    "                    'Discount_cat']\n",
    "enc = LabelEncoder()\n",
    "for col in categorical_cols:\n",
    "    enc.fit(df[col].values)\n",
    "    df[col] = enc.transform(list(df[col].values))\n",
    "df"
   ],
   "metadata": {
    "collapsed": false
   }
  },
  {
   "cell_type": "markdown",
   "source": [
    "We now have a dataset of categorical variables, ideal for most classification models.\n",
    "We now check for missing values, when we find none, we move to check if any columns are highly correlated. In the case of correlation, we can drop out some columns."
   ],
   "metadata": {
    "collapsed": false
   }
  },
  {
   "cell_type": "code",
   "execution_count": 5,
   "outputs": [
    {
     "data": {
      "text/plain": "<AxesSubplot:>"
     },
     "execution_count": 5,
     "metadata": {},
     "output_type": "execute_result"
    },
    {
     "data": {
      "text/plain": "<Figure size 640x480 with 2 Axes>",
      "image/png": "[encoded data removed]"
     },
     "metadata": {},
     "output_type": "display_data"
    }
   ],
   "source": [
    "corr = df.corr().where(np.triu(np.ones(df.corr().shape), k=1).astype(bool))\n",
    "sns.heatmap(corr)"
   ],
   "metadata": {
    "collapsed": false
   }
  },
  {
   "cell_type": "code",
   "execution_count": 6,
   "outputs": [
    {
     "data": {
      "text/plain": "Warehouse_block        0\nMode_of_Shipment       0\nCustomer_care_calls    0\nCustomer_rating        0\nCost_of_the_Product    0\nDiscount_cat           0\nPrice_cat              0\nPrior_purchases        0\nProduct_importance     0\nGender                 0\nDiscount_offered       0\nWeight_in_gms          0\nWeight_cat             0\nROT_Y                  0\ndtype: int64"
     },
     "execution_count": 6,
     "metadata": {},
     "output_type": "execute_result"
    }
   ],
   "source": [
    "df.isnull().sum()"
   ],
   "metadata": {
    "collapsed": false
   }
  },
  {
   "cell_type": "code",
   "execution_count": 7,
   "outputs": [
    {
     "data": {
      "text/plain": "    Warehouse_block  Mode_of_Shipment  Customer_care_calls  Customer_rating  \\\nID                                                                            \n1                 3                 0                    4                2   \n2                 4                 0                    4                5   \n3                 0                 0                    2                2   \n4                 1                 0                    3                3   \n5                 2                 0                    2                2   \n\n    Price_cat  Prior_purchases  Product_importance  Gender  Discount_offered  \\\nID                                                                             \n1           8                3                   1       0                44   \n2          12                2                   1       1                59   \n3           9                4                   1       1                48   \n4           8                4                   2       1                10   \n5           9                3                   2       0                46   \n\n    Weight_cat  ROT_Y  \nID                     \n1            2      1  \n2           20      1  \n3           23      1  \n4            1      1  \n5           14      1  ",
      "text/html": "<div>\n<style scoped>\n    .dataframe tbody tr th:only-of-type {\n        vertical-align: middle;\n    }\n\n    .dataframe tbody tr th {\n        vertical-align: top;\n    }\n\n    .dataframe thead th {\n        text-align: right;\n    }\n</style>\n<table border=\"1\" class=\"dataframe\">\n  <thead>\n    <tr style=\"text-align: right;\">\n      <th></th>\n      <th>Warehouse_block</th>\n      <th>Mode_of_Shipment</th>\n      <th>Customer_care_calls</th>\n      <th>Customer_rating</th>\n      <th>Price_cat</th>\n      <th>Prior_purchases</th>\n      <th>Product_importance</th>\n      <th>Gender</th>\n      <th>Discount_offered</th>\n      <th>Weight_cat</th>\n      <th>ROT_Y</th>\n    </tr>\n    <tr>\n      <th>ID</th>\n      <th></th>\n      <th></th>\n      <th></th>\n      <th></th>\n      <th></th>\n      <th></th>\n      <th></th>\n      <th></th>\n      <th></th>\n      <th></th>\n      <th></th>\n    </tr>\n  </thead>\n  <tbody>\n    <tr>\n      <th>1</th>\n      <td>3</td>\n      <td>0</td>\n      <td>4</td>\n      <td>2</td>\n      <td>8</td>\n      <td>3</td>\n      <td>1</td>\n      <td>0</td>\n      <td>44</td>\n      <td>2</td>\n      <td>1</td>\n    </tr>\n    <tr>\n      <th>2</th>\n      <td>4</td>\n      <td>0</td>\n      <td>4</td>\n      <td>5</td>\n      <td>12</td>\n      <td>2</td>\n      <td>1</td>\n      <td>1</td>\n      <td>59</td>\n      <td>20</td>\n      <td>1</td>\n    </tr>\n    <tr>\n      <th>3</th>\n      <td>0</td>\n      <td>0</td>\n      <td>2</td>\n      <td>2</td>\n      <td>9</td>\n      <td>4</td>\n      <td>1</td>\n      <td>1</td>\n      <td>48</td>\n      <td>23</td>\n      <td>1</td>\n    </tr>\n    <tr>\n      <th>4</th>\n      <td>1</td>\n      <td>0</td>\n      <td>3</td>\n      <td>3</td>\n      <td>8</td>\n      <td>4</td>\n      <td>2</td>\n      <td>1</td>\n      <td>10</td>\n      <td>1</td>\n      <td>1</td>\n    </tr>\n    <tr>\n      <th>5</th>\n      <td>2</td>\n      <td>0</td>\n      <td>2</td>\n      <td>2</td>\n      <td>9</td>\n      <td>3</td>\n      <td>2</td>\n      <td>0</td>\n      <td>46</td>\n      <td>14</td>\n      <td>1</td>\n    </tr>\n  </tbody>\n</table>\n</div>"
     },
     "execution_count": 7,
     "metadata": {},
     "output_type": "execute_result"
    }
   ],
   "source": [
    "# Dropping columns that we dont need.\n",
    "df = df.drop(['Weight_in_gms', 'Cost_of_the_Product', 'Discount_cat'], axis=1)\n",
    "df.head()"
   ],
   "metadata": {
    "collapsed": false
   }
  },
  {
   "cell_type": "markdown",
   "source": [
    "We now move into training our models. To begin this, we define the features and the dependant variable as X and y.\n",
    "We perform a simple train test split of 2:1 ratio to train our first model. We also apply stratification to ensure the same ratio of y values is preserved in the train and test sets."
   ],
   "metadata": {
    "collapsed": false
   }
  },
  {
   "cell_type": "code",
   "execution_count": 8,
   "outputs": [
    {
     "data": {
      "text/plain": "       Warehouse_block  Mode_of_Shipment  Customer_care_calls  \\\nID                                                              \n2684                 4                 2                    3   \n8949                 0                 2                    4   \n837                  0                 0                    3   \n77                   2                 2                    2   \n10819                3                 0                    4   \n\n       Customer_rating  Price_cat  Prior_purchases  Product_importance  \\\nID                                                                       \n2684                 1          6                3                   1   \n8949                 2          7                4                   1   \n837                  4         13                2                   1   \n77                   3          6                2                   2   \n10819                1          4                4                   1   \n\n       Gender  Discount_offered  Weight_cat  \nID                                           \n2684        1                57           8  \n8949        0                 9          34  \n837         1                51          16  \n77          0                36           7  \n10819       0                 5          34  ",
      "text/html": "<div>\n<style scoped>\n    .dataframe tbody tr th:only-of-type {\n        vertical-align: middle;\n    }\n\n    .dataframe tbody tr th {\n        vertical-align: top;\n    }\n\n    .dataframe thead th {\n        text-align: right;\n    }\n</style>\n<table border=\"1\" class=\"dataframe\">\n  <thead>\n    <tr style=\"text-align: right;\">\n      <th></th>\n      <th>Warehouse_block</th>\n      <th>Mode_of_Shipment</th>\n      <th>Customer_care_calls</th>\n      <th>Customer_rating</th>\n      <th>Price_cat</th>\n      <th>Prior_purchases</th>\n      <th>Product_importance</th>\n      <th>Gender</th>\n      <th>Discount_offered</th>\n      <th>Weight_cat</th>\n    </tr>\n    <tr>\n      <th>ID</th>\n      <th></th>\n      <th></th>\n      <th></th>\n      <th></th>\n      <th></th>\n      <th></th>\n      <th></th>\n      <th></th>\n      <th></th>\n      <th></th>\n    </tr>\n  </thead>\n  <tbody>\n    <tr>\n      <th>2684</th>\n      <td>4</td>\n      <td>2</td>\n      <td>3</td>\n      <td>1</td>\n      <td>6</td>\n      <td>3</td>\n      <td>1</td>\n      <td>1</td>\n      <td>57</td>\n      <td>8</td>\n    </tr>\n    <tr>\n      <th>8949</th>\n      <td>0</td>\n      <td>2</td>\n      <td>4</td>\n      <td>2</td>\n      <td>7</td>\n      <td>4</td>\n      <td>1</td>\n      <td>0</td>\n      <td>9</td>\n      <td>34</td>\n    </tr>\n    <tr>\n      <th>837</th>\n      <td>0</td>\n      <td>0</td>\n      <td>3</td>\n      <td>4</td>\n      <td>13</td>\n      <td>2</td>\n      <td>1</td>\n      <td>1</td>\n      <td>51</td>\n      <td>16</td>\n    </tr>\n    <tr>\n      <th>77</th>\n      <td>2</td>\n      <td>2</td>\n      <td>2</td>\n      <td>3</td>\n      <td>6</td>\n      <td>2</td>\n      <td>2</td>\n      <td>0</td>\n      <td>36</td>\n      <td>7</td>\n    </tr>\n    <tr>\n      <th>10819</th>\n      <td>3</td>\n      <td>0</td>\n      <td>4</td>\n      <td>1</td>\n      <td>4</td>\n      <td>4</td>\n      <td>1</td>\n      <td>0</td>\n      <td>5</td>\n      <td>34</td>\n    </tr>\n  </tbody>\n</table>\n</div>"
     },
     "execution_count": 8,
     "metadata": {},
     "output_type": "execute_result"
    }
   ],
   "source": [
    "y = df.ROT_Y\n",
    "X = df.drop('ROT_Y', axis=1)\n",
    "\n",
    "X_train, X_test, y_train, y_test = train_test_split(X, y, stratify=y, test_size=0.33, random_state=42)\n",
    "X_train.head()"
   ],
   "metadata": {
    "collapsed": false
   }
  },
  {
   "cell_type": "markdown",
   "source": [
    "We then train our first model, a K-nearest neighbours classifier. We test this from k=1 to k=15 to see what the best model would be."
   ],
   "metadata": {
    "collapsed": false
   }
  },
  {
   "cell_type": "code",
   "execution_count": 9,
   "outputs": [],
   "source": [
    "accs = []\n",
    "accs1 = []\n",
    "for i in range(1, 15):\n",
    "    model1 = KNeighborsClassifier(i)\n",
    "    model1.fit(X_train, y_train)\n",
    "    pred1 = model1.predict(X_test)\n",
    "    pred2 = model1.predict(X_train)\n",
    "    accuracy = f1_score(y_test, pred1)\n",
    "    accuracy2 = f1_score(y_train, pred2)\n",
    "    accs.append(accuracy)\n",
    "    accs1.append(accuracy2)\n",
    "    # print(report, '\\n', report2)"
   ],
   "metadata": {
    "collapsed": false
   }
  },
  {
   "cell_type": "code",
   "execution_count": 10,
   "outputs": [
    {
     "data": {
      "text/plain": "<Figure size 640x480 with 1 Axes>",
      "image/png": "[encoded data removed]"
     },
     "metadata": {},
     "output_type": "display_data"
    }
   ],
   "source": [
    "plt.plot()\n",
    "p = sns.lineplot(x=range(1, 15), y=accs, color='r')\n",
    "p = sns.lineplot(x=range(1, 15), y=accs1, color='b')"
   ],
   "metadata": {
    "collapsed": false
   }
  },
  {
   "cell_type": "markdown",
   "source": [
    "A K value of 3 seems ideal so we proceed to train our main model with K=3.\n",
    "To begin training our models, we first implement a Stratified K-Fold cross validation."
   ],
   "metadata": {
    "collapsed": false
   }
  },
  {
   "cell_type": "code",
   "execution_count": 11,
   "outputs": [],
   "source": [
    "folds = StratifiedKFold(5, shuffle=True)"
   ],
   "metadata": {
    "collapsed": false
   }
  },
  {
   "cell_type": "code",
   "execution_count": 12,
   "outputs": [
    {
     "data": {
      "text/plain": "0.7008202643956578"
     },
     "execution_count": 12,
     "metadata": {},
     "output_type": "execute_result"
    }
   ],
   "source": [
    "knn_mean = []\n",
    "\n",
    "for i, (train_index, test_index) in enumerate(folds.split(X, y)):\n",
    "    X_train, y_train = X[X.index.isin(train_index+1)], y[train_index+1]\n",
    "    X_test, y_test = X[X.index.isin(test_index+1)], y[test_index+1]\n",
    "    knn = KNeighborsClassifier(3)\n",
    "    knn.fit(X_train, y_train)\n",
    "    knn_pred = knn.predict(X_test)\n",
    "    knn_accuracy = f1_score(y_test, knn_pred)\n",
    "    knn_mean.append(knn_accuracy)\n",
    "\n",
    "np.mean(knn_mean)"
   ],
   "metadata": {
    "collapsed": false
   }
  },
  {
   "cell_type": "markdown",
   "source": [
    "We now test some models to compare and test which is the best.\n",
    "We use F1 Score to check our accuracy because of the ratios of the two classes being biased. We will also later compare models with their classification reports to check recall and precision."
   ],
   "metadata": {
    "collapsed": false
   }
  },
  {
   "cell_type": "code",
   "execution_count": 13,
   "outputs": [
    {
     "data": {
      "text/plain": "0.6948344011534594"
     },
     "execution_count": 13,
     "metadata": {},
     "output_type": "execute_result"
    }
   ],
   "source": [
    "svc_mean = []\n",
    "\n",
    "for i, (train_index, test_index) in enumerate(folds.split(X, y)):\n",
    "    X_train, y_train = X[X.index.isin(train_index+1)], y[train_index+1]\n",
    "    X_test, y_test = X[X.index.isin(test_index+1)], y[test_index+1]\n",
    "    svc = SVC(kernel='rbf', gamma='auto', tol=1e-3, decision_function_shape='ovo')\n",
    "    svc.fit(X_train, y_train)\n",
    "    svc_pred = svc.predict(X_test)\n",
    "    accuracy = f1_score(y_test, svc_pred)\n",
    "    svc_mean.append(accuracy)\n",
    "\n",
    "np.mean(svc_mean)"
   ],
   "metadata": {
    "collapsed": false
   }
  },
  {
   "cell_type": "code",
   "execution_count": 14,
   "outputs": [
    {
     "data": {
      "text/plain": "0.6610001621829157"
     },
     "execution_count": 14,
     "metadata": {},
     "output_type": "execute_result"
    }
   ],
   "source": [
    "sgd_mean = []\n",
    "\n",
    "for i, (train_index, test_index) in enumerate(folds.split(X, y)):\n",
    "    X_train, y_train = X[X.index.isin(train_index+1)], y[train_index+1]\n",
    "    X_test, y_test = X[X.index.isin(test_index+1)], y[test_index+1]\n",
    "    sgd = SGDClassifier()\n",
    "    sgd.fit(X_train, y_train)\n",
    "    sgd_pred = sgd.predict(X_test)\n",
    "    accuracy = f1_score(y_test, sgd_pred)\n",
    "    sgd_mean.append(accuracy)\n",
    "\n",
    "np.mean(sgd_mean)"
   ],
   "metadata": {
    "collapsed": false
   }
  },
  {
   "cell_type": "code",
   "execution_count": 15,
   "outputs": [
    {
     "data": {
      "text/plain": "0.6880156549851427"
     },
     "execution_count": 15,
     "metadata": {},
     "output_type": "execute_result"
    }
   ],
   "source": [
    "LR_mean = []\n",
    "\n",
    "for i, (train_index, test_index) in enumerate(folds.split(X, y)):\n",
    "    X_train, y_train = X[X.index.isin(train_index+1)], y[train_index+1]\n",
    "    X_test, y_test = X[X.index.isin(test_index+1)], y[test_index+1]\n",
    "    lr = LogisticRegression(max_iter=1000)\n",
    "    grid_values = {'penalty': ['l2'],'C':[0.001,.009,0.01,.09,1,5,10,25]}\n",
    "    lr = GridSearchCV(lr, param_grid = grid_values,scoring = 'recall')\n",
    "    lr.fit(X_train, y_train)\n",
    "    LR_pred = lr.predict(X_test)\n",
    "    accuracy = f1_score(y_test, LR_pred)\n",
    "    LR_mean.append(accuracy)\n",
    "\n",
    "np.mean(LR_mean)"
   ],
   "metadata": {
    "collapsed": false
   }
  },
  {
   "cell_type": "code",
   "execution_count": 28,
   "outputs": [
    {
     "data": {
      "text/plain": "0.702678770220406"
     },
     "execution_count": 28,
     "metadata": {},
     "output_type": "execute_result"
    }
   ],
   "source": [
    "Dtree_mean = []\n",
    "\n",
    "for i, (train_index, test_index) in enumerate(folds.split(X, y)):\n",
    "    X_train, y_train = X[X.index.isin(train_index+1)], y[train_index+1]\n",
    "    X_test, y_test = X[X.index.isin(test_index+1)], y[test_index+1]\n",
    "    dtree = DecisionTreeClassifier()\n",
    "    dtree.fit(X_train, y_train)\n",
    "    DTree_pred = dtree.predict(X_test)\n",
    "    accuracy = f1_score(y_test, DTree_pred)\n",
    "    Dtree_mean.append(accuracy)\n",
    "\n",
    "np.mean(Dtree_mean)"
   ],
   "metadata": {
    "collapsed": false
   }
  },
  {
   "cell_type": "code",
   "execution_count": 17,
   "outputs": [
    {
     "data": {
      "text/plain": "0.6618995461465034"
     },
     "execution_count": 17,
     "metadata": {},
     "output_type": "execute_result"
    }
   ],
   "source": [
    "RF_mean = []\n",
    "\n",
    "for i, (train_index, test_index) in enumerate(folds.split(X, y)):\n",
    "    X_train, y_train = X[X.index.isin(train_index+1)], y[train_index+1]\n",
    "    X_test, y_test = X[X.index.isin(test_index+1)], y[test_index+1]\n",
    "    rf = RandomForestClassifier()\n",
    "    param_grid = {'max_features': ['sqrt', 'log2'],\n",
    "              'max_depth' : [5, 6, 7],\n",
    "              'min_samples_split' : [2, 3, 5],\n",
    "              'criterion' :['log_loss']\n",
    "             }\n",
    "    rf = GridSearchCV(rf, param_grid = param_grid,scoring = 'recall')\n",
    "    rf.fit(X_train, y_train)\n",
    "    rf_pred = rf.predict(X_test)\n",
    "    accuracy = f1_score(y_test, rf_pred)\n",
    "    RF_mean.append(accuracy)\n",
    "\n",
    "np.mean(RF_mean)"
   ],
   "metadata": {
    "collapsed": false
   }
  },
  {
   "cell_type": "code",
   "execution_count": 18,
   "outputs": [
    {
     "data": {
      "text/plain": "0.6485872975399564"
     },
     "execution_count": 18,
     "metadata": {},
     "output_type": "execute_result"
    }
   ],
   "source": [
    "NB_mean = []\n",
    "\n",
    "for i, (train_index, test_index) in enumerate(folds.split(X, y)):\n",
    "    X_train, y_train = X[X.index.isin(train_index+1)], y[train_index+1]\n",
    "    X_test, y_test = X[X.index.isin(test_index+1)], y[test_index+1]\n",
    "    nb = CategoricalNB()\n",
    "    nb.fit(X_train, y_train)\n",
    "    nb_pred = nb.predict(X_test)\n",
    "    accuracy = f1_score(y_test, nb_pred)\n",
    "    NB_mean.append(accuracy)\n",
    "\n",
    "np.mean(NB_mean)"
   ],
   "metadata": {
    "collapsed": false
   }
  },
  {
   "cell_type": "markdown",
   "source": [
    "Now we look at the classification reports of the top models."
   ],
   "metadata": {
    "collapsed": false
   }
  },
  {
   "cell_type": "code",
   "execution_count": 19,
   "outputs": [
    {
     "name": "stdout",
     "output_type": "stream",
     "text": [
      "Random Forest\n",
      "              precision    recall  f1-score   support\n",
      "\n",
      "           0       0.56      0.93      0.70       887\n",
      "           1       0.91      0.50      0.65      1312\n",
      "\n",
      "    accuracy                           0.68      2199\n",
      "   macro avg       0.74      0.72      0.67      2199\n",
      "weighted avg       0.77      0.68      0.67      2199\n",
      "\n"
     ]
    }
   ],
   "source": [
    "# Random Forest\n",
    "print('Random Forest')\n",
    "print(classification_report(y_test, rf_pred))"
   ],
   "metadata": {
    "collapsed": false
   }
  },
  {
   "cell_type": "code",
   "execution_count": 29,
   "outputs": [
    {
     "name": "stdout",
     "output_type": "stream",
     "text": [
      "Decision Tree\n",
      "              precision    recall  f1-score   support\n",
      "\n",
      "           0       0.56      0.55      0.55       887\n",
      "           1       0.70      0.71      0.70      1312\n",
      "\n",
      "    accuracy                           0.64      2199\n",
      "   macro avg       0.63      0.63      0.63      2199\n",
      "weighted avg       0.64      0.64      0.64      2199\n",
      "\n"
     ]
    }
   ],
   "source": [
    "# Decision Tree\n",
    "print('Decision Tree')\n",
    "print(classification_report(y_test, DTree_pred))"
   ],
   "metadata": {
    "collapsed": false
   }
  },
  {
   "cell_type": "code",
   "execution_count": 21,
   "outputs": [
    {
     "name": "stdout",
     "output_type": "stream",
     "text": [
      "KNN\n",
      "              precision    recall  f1-score   support\n",
      "\n",
      "           0       0.57      0.61      0.59       887\n",
      "           1       0.72      0.69      0.71      1312\n",
      "\n",
      "    accuracy                           0.66      2199\n",
      "   macro avg       0.65      0.65      0.65      2199\n",
      "weighted avg       0.66      0.66      0.66      2199\n",
      "\n"
     ]
    }
   ],
   "source": [
    "# K-NN\n",
    "print('KNN')\n",
    "print(classification_report(y_test, knn_pred))"
   ],
   "metadata": {
    "collapsed": false
   }
  },
  {
   "cell_type": "code",
   "execution_count": 22,
   "outputs": [
    {
     "name": "stdout",
     "output_type": "stream",
     "text": [
      "SVC\n",
      "              precision    recall  f1-score   support\n",
      "\n",
      "           0       0.56      0.70      0.62       887\n",
      "           1       0.75      0.62      0.68      1312\n",
      "\n",
      "    accuracy                           0.65      2199\n",
      "   macro avg       0.65      0.66      0.65      2199\n",
      "weighted avg       0.67      0.65      0.66      2199\n",
      "\n"
     ]
    }
   ],
   "source": [
    "# SVC\n",
    "print('SVC')\n",
    "print(classification_report(y_test, svc_pred))"
   ],
   "metadata": {
    "collapsed": false
   }
  },
  {
   "cell_type": "code",
   "execution_count": 23,
   "outputs": [
    {
     "name": "stdout",
     "output_type": "stream",
     "text": [
      "Logistic Regression\n",
      "              precision    recall  f1-score   support\n",
      "\n",
      "           0       0.53      0.54      0.54       887\n",
      "           1       0.69      0.67      0.68      1312\n",
      "\n",
      "    accuracy                           0.62      2199\n",
      "   macro avg       0.61      0.61      0.61      2199\n",
      "weighted avg       0.62      0.62      0.62      2199\n",
      "\n"
     ]
    }
   ],
   "source": [
    "# Logistic Regression\n",
    "print('Logistic Regression')\n",
    "print(classification_report(y_test, LR_pred))"
   ],
   "metadata": {
    "collapsed": false
   }
  },
  {
   "cell_type": "code",
   "execution_count": 24,
   "outputs": [
    {
     "name": "stdout",
     "output_type": "stream",
     "text": [
      "              precision    recall  f1-score   support\n",
      "\n",
      "           0       0.53      0.89      0.67       887\n",
      "           1       0.87      0.47      0.61      1312\n",
      "\n",
      "    accuracy                           0.64      2199\n",
      "   macro avg       0.70      0.68      0.64      2199\n",
      "weighted avg       0.73      0.64      0.64      2199\n",
      "\n"
     ]
    }
   ],
   "source": [
    "# SGD\n",
    "print(classification_report(y_test, sgd_pred))"
   ],
   "metadata": {
    "collapsed": false
   }
  },
  {
   "cell_type": "markdown",
   "source": [
    "Comparing accuracies and classification reports, we can see even though some models performed similarly well, SVC and Random Forests had the highest accuracy-precision-recall combinations.\n",
    "\n",
    "Also, as we are looking at inequal number of samples between the 2 classes, F1-score is a good estimator, and both SVC and Random forests have the highest F1-Scores in the models chosen."
   ],
   "metadata": {
    "collapsed": false
   }
  },
  {
   "cell_type": "code",
   "execution_count": null,
   "outputs": [],
   "source": [
    "\n"
   ],
   "metadata": {
    "collapsed": false,
    "pycharm": {
     "is_executing": true
    }
   }
  }
 ],
 "metadata": {
  "kernelspec": {
   "display_name": "Python 3",
   "language": "python",
   "name": "python3"
  },
  "language_info": {
   "codemirror_mode": {
    "name": "ipython",
    "version": 2
   },
   "file_extension": ".py",
   "mimetype": "text/x-python",
   "name": "python",
   "nbconvert_exporter": "python",
   "pygments_lexer": "ipython2",
   "version": "2.7.6"
  }
 },
 "nbformat": 4,
 "nbformat_minor": 0
}
